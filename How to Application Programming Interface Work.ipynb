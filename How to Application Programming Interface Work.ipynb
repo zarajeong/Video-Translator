{
 "cells": [
  {
   "cell_type": "raw",
   "id": "3b1b32c6",
   "metadata": {},
   "source": [
    "Created by Zhara Nabila, Student of Physics in Lampung University \n",
    "    for further information '@zhara.nabila2007@students.unila.ac.id' or '@zharafisikaunila@gmail.com'"
   ]
  },
  {
   "cell_type": "markdown",
   "id": "f1ec7768",
   "metadata": {},
   "source": [
    "#                                  Project Google Application Programming Interface (SUBTITLE and AUDIO)"
   ]
  },
  {
   "cell_type": "raw",
   "id": "6054bf9f",
   "metadata": {},
   "source": [
    "In this research, a text and audio translator program has been created using the Application Programming Interface (API). This program is a configuration of deep learning, machine translation, and text-to-speech designed using the high-level programming language python. The system used is a predictive system in which the system tries to predict the output equally the wishes of the user. The method used is a classification method that functions to detect the flow of shapes to instruct the class attribute as the task of the input attribute by generating automatic output through three stages, namely Machine Learning, Natural Language Processing, and Speech. "
   ]
  },
  {
   "cell_type": "markdown",
   "id": "eb8ae0a3",
   "metadata": {},
   "source": [
    "# Machine Learning (ML) *Deep Learning*"
   ]
  },
  {
   "cell_type": "code",
   "execution_count": null,
   "id": "3c5c33d8",
   "metadata": {},
   "outputs": [],
   "source": [
    "#download some required libraries\n",
    "from youtube_transcript_api import YouTubeTranscriptApi\n",
    "import os\n",
    "\n",
    "#put the link of video you want to translate\n",
    "srt = YouTubeTranscriptApi.get_transcript(\"link\") \n",
    "text = \"\"\n",
    "\n",
    "#give name in your file\n",
    "with open(\"file\", \"w\") as file:\n",
    "    for i in srt:\n",
    "        text += i[\"text\"] + \"...\"\n",
    "    file.write(text)\n",
    "print(text)"
   ]
  },
  {
   "cell_type": "markdown",
   "id": "6a97ea90",
   "metadata": {},
   "source": [
    "# Natural Language Processing (NLP) *Machine Translation*"
   ]
  },
  {
   "cell_type": "code",
   "execution_count": null,
   "id": "332cd5d0",
   "metadata": {},
   "outputs": [],
   "source": [
    "#time for Application Programming Interface to work\n",
    "from deep_translator import GoogleTranslator\n",
    "\n",
    "#put the output here\n",
    "to_translate = 'script'\n",
    "\n",
    "translated = GoogleTranslator(source='auto', target='code').translate(to_translate)\n",
    "translated"
   ]
  },
  {
   "cell_type": "markdown",
   "id": "623a1d37",
   "metadata": {},
   "source": [
    "# Speech *text-to-speech*"
   ]
  },
  {
   "cell_type": "code",
   "execution_count": null,
   "id": "1636b28b",
   "metadata": {},
   "outputs": [],
   "source": [
    "import playsound\n",
    "from gtts import gTTS\n",
    "\n",
    "def suara(teks):\n",
    "    output = gTTS(text = teks, lang = 'code', slow = False)\n",
    "    \n",
    "    #give name in your file\n",
    "    output.save(\"file\")\n",
    "playsound.playsound(\"file\", True)\n",
    " \n",
    "#put the output here\n",
    "suara(“script”)"
   ]
  },
  {
   "cell_type": "markdown",
   "id": "58423079",
   "metadata": {},
   "source": [
    "# This program has no limitations, you just have to be connected to a stable internet network"
   ]
  }
 ],
 "metadata": {
  "kernelspec": {
   "display_name": "Python 3 (ipykernel)",
   "language": "python",
   "name": "python3"
  },
  "language_info": {
   "codemirror_mode": {
    "name": "ipython",
    "version": 3
   },
   "file_extension": ".py",
   "mimetype": "text/x-python",
   "name": "python",
   "nbconvert_exporter": "python",
   "pygments_lexer": "ipython3",
   "version": "3.9.6"
  }
 },
 "nbformat": 4,
 "nbformat_minor": 5
}
